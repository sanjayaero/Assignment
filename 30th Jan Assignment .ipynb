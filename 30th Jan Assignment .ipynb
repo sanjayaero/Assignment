{
 "cells": [
  {
   "cell_type": "code",
   "execution_count": 7,
   "id": "dff4f53f-2742-4411-86a4-a0f0a395bd67",
   "metadata": {},
   "outputs": [
    {
     "name": "stdin",
     "output_type": "stream",
     "text": [
      "enter your marks 55\n"
     ]
    },
    {
     "name": "stdout",
     "output_type": "stream",
     "text": [
      "You will recieve D grade\n"
     ]
    }
   ],
   "source": [
    "marks = int(input(\"enter your marks\"))\n",
    "if marks >= 90:\n",
    "    print(\"You will recieve A grade\")\n",
    "elif marks > 80 and marks <= 90:\n",
    "    print(\"You will recieve B grade\")\n",
    "elif marks >= 60 and marks <= 80:\n",
    "    print(\"You will recieve C grade\")\n",
    "else:\n",
    "    print(\"You will recieve D grade\")"
   ]
  },
  {
   "cell_type": "code",
   "execution_count": 19,
   "id": "3e74fd97-ff21-412c-b0f0-26e64b9d1c74",
   "metadata": {},
   "outputs": [
    {
     "name": "stdin",
     "output_type": "stream",
     "text": [
      "Enter the cost of the bike:  45000\n"
     ]
    },
    {
     "name": "stdout",
     "output_type": "stream",
     "text": [
      "Tax value=5% 2250.0\n"
     ]
    }
   ],
   "source": [
    "x=0\n",
    "c=int(input(\"Enter the cost of the bike: \"))\n",
    "if c>100000:\n",
    "   x=15/100*c\n",
    "   print(\"Tax value=15%\",x)\n",
    "elif c>50000 and c<=100000:\n",
    "    x=10/100*c\n",
    "    print(\"Tax value=10%\",x)\n",
    "elif c<=50000:\n",
    "    x=5/100*c\n",
    "    print(\"Tax value=5%\",x)\n",
    "\n",
    "else:\n",
    "   print(\"There is no tax\")"
   ]
  },
  {
   "cell_type": "code",
   "execution_count": 24,
   "id": "360b7651-ac25-4d62-a42e-7f147aeb9a82",
   "metadata": {},
   "outputs": [
    {
     "name": "stdin",
     "output_type": "stream",
     "text": [
      "Enter a city delhi\n"
     ]
    },
    {
     "name": "stdout",
     "output_type": "stream",
     "text": [
      "Red Fort\n"
     ]
    }
   ],
   "source": [
    "city = input(\"Enter a city\")\n",
    "\n",
    "if city.upper() == \"DELHI\":\n",
    "\n",
    "   print(\"Red Fort\")\n",
    "\n",
    "elif city.upper() == \"AGRA\":\n",
    "\n",
    "   print(\"Taj Mahal\")\n",
    "\n",
    "elif city.upper() == \"JAIPUR\":\n",
    "\n",
    "   print(\"Jal Mahal\")\n",
    "\n",
    "else:\n",
    "\n",
    "   print(\"Enter a valid city\")"
   ]
  },
  {
   "cell_type": "code",
   "execution_count": 3,
   "id": "15033663-2d4f-48a7-92a4-a3571e39105c",
   "metadata": {},
   "outputs": [],
   "source": [
    "##Ans3 To check if a number is divisible by 3 in Python, use the remainder operator. If the number, let’s say, num%3 == 0, then the number will be divisible. "
   ]
  },
  {
   "cell_type": "code",
   "execution_count": 4,
   "id": "875d3dc5-437f-4ca8-b65f-45e3297337b4",
   "metadata": {},
   "outputs": [],
   "source": [
    "##Ans4 Python while loop is used to run a block code until a certain condition is met. Here, A while loop evaluates the condition. If the condition evaluates to True , the code inside the while loop is executed."
   ]
  },
  {
   "cell_type": "code",
   "execution_count": 7,
   "id": "21cddfbb-50bc-4279-9d63-bf0d05cc0bf1",
   "metadata": {},
   "outputs": [
    {
     "name": "stdin",
     "output_type": "stream",
     "text": [
      "Enter number of rows :  2\n"
     ]
    },
    {
     "name": "stdout",
     "output_type": "stream",
     "text": [
      "  1 \n",
      "  2   3 \n"
     ]
    }
   ],
   "source": [
    "##Ans 6\n",
    "n = int(input('Enter number of rows : '))\n",
    " \n",
    "k = 1\n",
    "i = 1\n",
    "while i <= n :\n",
    "    j = 1\n",
    "    while j <= i:\n",
    "        print(\"{:3d}\".format(k), end = \" \")\n",
    "        j += 1\n",
    "        k += 1\n",
    "    print()\n",
    "    i += 1"
   ]
  },
  {
   "cell_type": "code",
   "execution_count": 3,
   "id": "aba98446-64c0-4542-911c-abefc278d30b",
   "metadata": {},
   "outputs": [
    {
     "name": "stdin",
     "output_type": "stream",
     "text": [
      "Enter number of rows :  2\n"
     ]
    },
    {
     "name": "stdout",
     "output_type": "stream",
     "text": [
      "* * \n",
      "* \n"
     ]
    }
   ],
   "source": [
    "n = int(input('Enter number of rows : '))\n",
    " \n",
    "i = 1\n",
    "while i <= n :\n",
    "    j = n\n",
    "    while j >= i:\n",
    "        print(\"*\", end = \" \")\n",
    "        j -= 1\n",
    "    print()\n",
    "    i += 1"
   ]
  },
  {
   "cell_type": "code",
   "execution_count": 6,
   "id": "3e433cb1-4feb-40a4-8f4f-3bc9929705c4",
   "metadata": {},
   "outputs": [
    {
     "name": "stdin",
     "output_type": "stream",
     "text": [
      "Enter number of rows :  1\n"
     ]
    },
    {
     "name": "stdout",
     "output_type": "stream",
     "text": [
      "* \n"
     ]
    }
   ],
   "source": [
    "n = int(input('Enter number of rows : '))\n",
    " \n",
    "i = 1\n",
    "while i <= n :\n",
    "    j = 1\n",
    "    while j <= i:\n",
    "        print(\"*\", end = \" \")\n",
    "        j += 1\n",
    "    print()\n",
    "    i += 1"
   ]
  },
  {
   "cell_type": "code",
   "execution_count": 1,
   "id": "1ea3e352-b9c2-4da1-8f97-6ed7749f199c",
   "metadata": {},
   "outputs": [
    {
     "name": "stdout",
     "output_type": "stream",
     "text": [
      "Reversed Number: 4321\n"
     ]
    }
   ],
   "source": [
    "num = 1234\n",
    "reversed_num = 0\n",
    "\n",
    "while num != 0:\n",
    "    digit = num % 10\n",
    "    reversed_num = reversed_num * 10 + digit\n",
    "    num //= 10\n",
    "\n",
    "print(\"Reversed Number: \" + str(reversed_num))"
   ]
  },
  {
   "cell_type": "markdown",
   "id": "f7105d78-f0df-4931-ac4c-d1f859606a29",
   "metadata": {},
   "source": [
    "Ans 5\n",
    "The while loop in Python is used to repeatedly execute a block of code as long as a certain condition is true. It provides a way to create iterative processes where you don't know the exact number of iterations beforehand. The while loop is useful when you want to keep executing the same code until a specific condition is met, and the number of iterations is determined at runtime."
   ]
  },
  {
   "cell_type": "code",
   "execution_count": 5,
   "id": "1e370a1b-58cd-43ec-bbfd-4d397d5f5031",
   "metadata": {},
   "outputs": [
    {
     "name": "stdout",
     "output_type": "stream",
     "text": [
      "1\n",
      "2\n",
      "3\n",
      "4\n",
      "5\n"
     ]
    }
   ],
   "source": [
    "# Using a while loop to print numbers from 1 to 5\n",
    "count = 1\n",
    "while count <= 5:\n",
    "    print(count)\n",
    "    count += 1\n"
   ]
  },
  {
   "cell_type": "code",
   "execution_count": 9,
   "id": "7d569eb9-d7f5-4895-95e3-888eb93cd38d",
   "metadata": {},
   "outputs": [
    {
     "name": "stdout",
     "output_type": "stream",
     "text": [
      "10\n",
      "9\n",
      "8\n",
      "7\n",
      "6\n",
      "5\n",
      "4\n",
      "3\n",
      "2\n",
      "1\n"
     ]
    }
   ],
   "source": [
    "##Ans 7\n",
    "# Using a while loop to display numbers from 10 to 1 in reverse order\n",
    "num = 10\n",
    "\n",
    "while num >= 1:\n",
    "    print(num)\n",
    "    num -= 1\n"
   ]
  },
  {
   "cell_type": "code",
   "execution_count": null,
   "id": "426b310d-3176-450c-a9b1-b8e12c006c87",
   "metadata": {},
   "outputs": [],
   "source": []
  }
 ],
 "metadata": {
  "kernelspec": {
   "display_name": "Python 3 (ipykernel)",
   "language": "python",
   "name": "python3"
  },
  "language_info": {
   "codemirror_mode": {
    "name": "ipython",
    "version": 3
   },
   "file_extension": ".py",
   "mimetype": "text/x-python",
   "name": "python",
   "nbconvert_exporter": "python",
   "pygments_lexer": "ipython3",
   "version": "3.10.8"
  }
 },
 "nbformat": 4,
 "nbformat_minor": 5
}
