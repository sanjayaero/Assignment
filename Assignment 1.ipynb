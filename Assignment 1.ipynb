{
 "cells": [
  {
   "cell_type": "code",
   "execution_count": 3,
   "id": "152cf743-b9ec-4e04-9067-a36202db2e8b",
   "metadata": {},
   "outputs": [],
   "source": [
    "##Ans1 Guido van Rossum\n"
   ]
  },
  {
   "cell_type": "code",
   "execution_count": 4,
   "id": "c40097ea-b479-4226-84dc-e8913f01fddf",
   "metadata": {},
   "outputs": [],
   "source": [
    "##Ans2 Python support imperative, Functional and Object Oriented"
   ]
  },
  {
   "cell_type": "code",
   "execution_count": 5,
   "id": "035b079d-3ba5-46a2-9136-2d8a60210ac6",
   "metadata": {},
   "outputs": [],
   "source": [
    "##Ans 3 Yes"
   ]
  },
  {
   "cell_type": "code",
   "execution_count": 12,
   "id": "a08312c8-b26d-4717-8188-810c0c36270f",
   "metadata": {},
   "outputs": [],
   "source": [
    "##Ans 4 .py"
   ]
  },
  {
   "cell_type": "code",
   "execution_count": null,
   "id": "2f09ed6e-ee8d-4d9a-a11c-15ce6413eabd",
   "metadata": {},
   "outputs": [],
   "source": [
    "##Ans5 Python is both compilled and interpreted."
   ]
  },
  {
   "cell_type": "code",
   "execution_count": 7,
   "id": "8ccf18d6-2733-45a6-8cf6-422cfe5b999b",
   "metadata": {},
   "outputs": [],
   "source": [
    "##Ans6 A module, a function body and a class defination"
   ]
  },
  {
   "cell_type": "code",
   "execution_count": 8,
   "id": "63038592-c6ef-4949-a8bb-074e7444b331",
   "metadata": {},
   "outputs": [],
   "source": [
    "##Ans 7 single # character before any line or code"
   ]
  },
  {
   "cell_type": "code",
   "execution_count": 9,
   "id": "dd7907b0-41e8-4cd7-b0c3-a5a2cf5fbcf1",
   "metadata": {},
   "outputs": [],
   "source": [
    "##Ans 8 sys. version"
   ]
  },
  {
   "cell_type": "code",
   "execution_count": 10,
   "id": "b29ed4b9-9d3d-4552-b271-c538dccddc4f",
   "metadata": {},
   "outputs": [],
   "source": [
    "##Ans9 Lambda"
   ]
  },
  {
   "cell_type": "code",
   "execution_count": 11,
   "id": "3654e51f-a517-4847-a630-fcd92b560c9f",
   "metadata": {},
   "outputs": [],
   "source": [
    "##Ans10 PIP Install Packages"
   ]
  },
  {
   "cell_type": "code",
   "execution_count": 13,
   "id": "a3b4a9bc-3193-413c-a5cd-324cb8c7cbda",
   "metadata": {},
   "outputs": [],
   "source": [
    "##Ans11 print(), type(), pow(), dir(), max(), input() functions"
   ]
  },
  {
   "cell_type": "code",
   "execution_count": 14,
   "id": "0f4351ac-6ef4-4026-b4cd-4c5d9654dfd6",
   "metadata": {},
   "outputs": [],
   "source": [
    "#Ans12 79 characters"
   ]
  },
  {
   "cell_type": "code",
   "execution_count": 15,
   "id": "5dcfd918-994d-4355-acae-b2026dfe2ed8",
   "metadata": {},
   "outputs": [],
   "source": [
    "##Ans13 Web development, Data Science, Computer grahics etc"
   ]
  },
  {
   "cell_type": "code",
   "execution_count": 16,
   "id": "43b51d30-5775-4052-b73d-237f36275353",
   "metadata": {},
   "outputs": [],
   "source": [
    "##Ans 14 A private heap containing all python object and data structures."
   ]
  },
  {
   "cell_type": "code",
   "execution_count": 17,
   "id": "a763d1c7-29cd-4ed3-b0b4-76c2748138d5",
   "metadata": {},
   "outputs": [],
   "source": [
    "##ANs15 Path variables is list of directries where each directory contain the executable file for a command"
   ]
  },
  {
   "cell_type": "code",
   "execution_count": null,
   "id": "9765b4b8-84f9-45d9-991f-93d4f51e127d",
   "metadata": {},
   "outputs": [],
   "source": []
  }
 ],
 "metadata": {
  "kernelspec": {
   "display_name": "Python 3 (ipykernel)",
   "language": "python",
   "name": "python3"
  },
  "language_info": {
   "codemirror_mode": {
    "name": "ipython",
    "version": 3
   },
   "file_extension": ".py",
   "mimetype": "text/x-python",
   "name": "python",
   "nbconvert_exporter": "python",
   "pygments_lexer": "ipython3",
   "version": "3.10.8"
  }
 },
 "nbformat": 4,
 "nbformat_minor": 5
}
