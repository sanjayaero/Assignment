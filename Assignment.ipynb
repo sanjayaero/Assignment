{
 "cells": [
  {
   "cell_type": "code",
   "execution_count": null,
   "id": "243410bd-ef50-4a36-98b2-f594b12e79b0",
   "metadata": {},
   "outputs": [
    {
     "ename": "SyntaxError",
     "evalue": "invalid syntax (3278110149.py, line 2)",
     "output_type": "error",
     "traceback": [
      "\u001b[0;36m  Cell \u001b[0;32mIn[26], line 2\u001b[0;36m\u001b[0m\n\u001b[0;31m    For Loop: Use a for loop when you want to iterate over a sequence of elements, such as a list, tuple, string, or range. It is useful when you know the number of iterations in advance or when you want to perform a specific action for each item in a collection.\u001b[0m\n\u001b[0m        ^\u001b[0m\n\u001b[0;31mSyntaxError\u001b[0m\u001b[0;31m:\u001b[0m invalid syntax\n"
     ]
    }
   ],
   "source": [
    "##For loop Assignment.\n",
    "\n",
    "##Ans1. \n",
    "For Loop: Use a for loop when you want to iterate over a sequence of elements, such as a list, tuple, string, or range. It is useful when you know the number of iterations in advance or when you want to perform a specific action for each item in a collection.\n",
    "While Loop: Use a while loop when you want to repeat a block of code as long as a certain condition is true. It is useful when the number of iterations is not predetermined, and you want to continue executing the loop until a specific condition is met."
   ]
  },
  {
   "cell_type": "code",
   "execution_count": 27,
   "id": "36699300-4b0c-4f01-9e3e-1393ed4e5628",
   "metadata": {},
   "outputs": [
    {
     "name": "stdout",
     "output_type": "stream",
     "text": [
      "Sum: 55\n",
      "Product: 3628800\n"
     ]
    }
   ],
   "source": [
    "# Sum of first 10 natural numbers using for loop\n",
    "sum_result = 0\n",
    "product_result = 1\n",
    "\n",
    "for num in range(1, 11):\n",
    "    sum_result += num\n",
    "    product_result *= num\n",
    "\n",
    "print(\"Sum:\", sum_result)\n",
    "print(\"Product:\", product_result)"
   ]
  },
  {
   "cell_type": "code",
   "execution_count": 28,
   "id": "731963c8-3555-471a-b70f-58241f124969",
   "metadata": {},
   "outputs": [
    {
     "name": "stdout",
     "output_type": "stream",
     "text": [
      "Sum: 55\n",
      "Product: 3628800\n"
     ]
    }
   ],
   "source": [
    "# Sum of first 10 natural numbers using while loop\n",
    "sum_result = 0\n",
    "product_result = 1\n",
    "count = 1\n",
    "\n",
    "while count <= 10:\n",
    "    sum_result += count\n",
    "    product_result *= count\n",
    "    count += 1\n",
    "\n",
    "print(\"Sum:\", sum_result)\n",
    "print(\"Product:\", product_result)"
   ]
  },
  {
   "cell_type": "code",
   "execution_count": 34,
   "id": "844672a6-eef8-4090-92e3-1a3e1adde6e7",
   "metadata": {},
   "outputs": [
    {
     "name": "stdin",
     "output_type": "stream",
     "text": [
      "Enter the unit:  310\n"
     ]
    },
    {
     "name": "stdout",
     "output_type": "stream",
     "text": [
      "total charges:  2250.0\n"
     ]
    }
   ],
   "source": [
    "unit = int(input(\"Enter the unit: \"))\n",
    "total_charges=0\n",
    "if unit <=100:\n",
    "    total_charges=unit*4.5\n",
    "elif unit <=200:\n",
    "    total_charges=100*4.5+(unit-100)*6\n",
    "elif unit <=300:\n",
    "    total_charges= 100*4.5+200*6+(unit-200)*10\n",
    "else:\n",
    "    total_charges= 100*4.5+100*6+100*10+(unit-300)*20\n",
    "print(\"total charges: \", total_charges)"
   ]
  },
  {
   "cell_type": "code",
   "execution_count": 12,
   "id": "9b7f6c1d-267d-480d-846a-5b9b223cdebe",
   "metadata": {},
   "outputs": [
    {
     "name": "stdout",
     "output_type": "stream",
     "text": [
      "[2, 4, 5, 6, 8, 10, 12, 14, 15, 16, 18, 20, 22, 24, 25, 26, 28, 30, 32, 34, 35, 36, 38, 40, 42, 44, 45, 46, 48, 50, 52, 54, 55, 56, 58, 60, 62, 64, 65, 66, 68, 70, 72, 74, 75, 76, 78, 80, 82, 84, 85, 86, 88, 90, 92, 94, 95, 96, 98, 100]\n"
     ]
    }
   ],
   "source": [
    "cubes = []\n",
    "for num in range(1,101):\n",
    "    cube = num ** 3\n",
    "    if cube % 4 ==0 or cube % 5 == 0:\n",
    "        cubes.append(num)\n",
    "print(cubes)"
   ]
  },
  {
   "cell_type": "code",
   "execution_count": 1,
   "id": "a395bb55-3a61-4448-b3fa-d6437b5d9882",
   "metadata": {},
   "outputs": [
    {
     "name": "stdout",
     "output_type": "stream",
     "text": [
      "[2, 4, 5, 6, 8, 10, 12, 14, 15, 16, 18, 20, 22, 24, 25, 26, 28, 30, 32, 34, 35, 36, 38, 40, 42, 44, 45, 46, 48, 50, 52, 54, 55, 56, 58, 60, 62, 64, 65, 66, 68, 70, 72, 74, 75, 76, 78, 80, 82, 84, 85, 86, 88, 90, 92, 94, 95, 96, 98, 100]\n"
     ]
    }
   ],
   "source": [
    "cubes = []\n",
    "num = 1\n",
    "while num <= 100:\n",
    "    cube = num ** 3\n",
    "    if cube % 4 == 0 or cube % 5 == 0:\n",
    "        cubes.append(num)\n",
    "    num += 1\n",
    "\n",
    "print(cubes)"
   ]
  },
  {
   "cell_type": "code",
   "execution_count": 6,
   "id": "ca1e18d9-68a8-483a-80ea-0fa5413ae632",
   "metadata": {},
   "outputs": [
    {
     "name": "stdout",
     "output_type": "stream",
     "text": [
      "The number of vowels in the string is: 12\n"
     ]
    }
   ],
   "source": [
    "String = \"I want to become a data scientist\"\n",
    "vowels = ['a', 'e', 'i', 'o', 'u']\n",
    "count = 0\n",
    "\n",
    "for i in String:\n",
    "    if i.lower() in vowels:\n",
    "        count+=1\n",
    "print(\"The number of vowels in the string is:\", count)       "
   ]
  },
  {
   "cell_type": "code",
   "execution_count": null,
   "id": "c1bc391c-ae5e-4e46-870b-74249d14e328",
   "metadata": {},
   "outputs": [],
   "source": []
  }
 ],
 "metadata": {
  "kernelspec": {
   "display_name": "Python 3 (ipykernel)",
   "language": "python",
   "name": "python3"
  },
  "language_info": {
   "codemirror_mode": {
    "name": "ipython",
    "version": 3
   },
   "file_extension": ".py",
   "mimetype": "text/x-python",
   "name": "python",
   "nbconvert_exporter": "python",
   "pygments_lexer": "ipython3",
   "version": "3.10.8"
  }
 },
 "nbformat": 4,
 "nbformat_minor": 5
}
