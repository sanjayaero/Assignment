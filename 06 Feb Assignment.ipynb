{
 "cells": [
  {
   "cell_type": "code",
   "execution_count": 20,
   "id": "3e68f453-982d-4b05-9b36-89bd1315b61f",
   "metadata": {},
   "outputs": [],
   "source": [
    "list1 = [1,2,3,4, [44,55,66, True], False, (34,56,78,89,34), {1,2,3,3,2,1}, {1:34, \"key2\": [55, 67, 78, 89], 4: (45,22, 61, 34)}, [56, 'data science'], 'Machine Learning']"
   ]
  },
  {
   "cell_type": "code",
   "execution_count": 21,
   "id": "f130d760-0c0c-410a-8a34-308013174369",
   "metadata": {},
   "outputs": [
    {
     "data": {
      "text/plain": [
       "[1,\n",
       " 2,\n",
       " 3,\n",
       " 4,\n",
       " [44, 55, 66, True],\n",
       " False,\n",
       " (34, 56, 78, 89, 34),\n",
       " {1, 2, 3},\n",
       " {1: 34, 'key2': [55, 67, 78, 89], 4: (45, 22, 61, 34)},\n",
       " [56, 'data science'],\n",
       " 'Machine Learning']"
      ]
     },
     "execution_count": 21,
     "metadata": {},
     "output_type": "execute_result"
    }
   ],
   "source": [
    "list1"
   ]
  },
  {
   "cell_type": "code",
   "execution_count": 23,
   "id": "08411d93-9b58-4332-aa48-9e69d249cf16",
   "metadata": {},
   "outputs": [
    {
     "name": "stdout",
     "output_type": "stream",
     "text": [
      "Product of all numbers in the list: 0\n"
     ]
    }
   ],
   "source": [
    "def flatten_and_multiply(lst):\n",
    "    def is_numeric(val):\n",
    "        return isinstance(val, (int, float))\n",
    "\n",
    "    def multiply_list_elements(flat_lst):\n",
    "        product = 1\n",
    "        for element in flat_lst:\n",
    "            if is_numeric(element):\n",
    "                product *= element\n",
    "        return product\n",
    "\n",
    "    def flatten(lst):\n",
    "        flat_list = []\n",
    "        for element in lst:\n",
    "            if isinstance(element, list):\n",
    "                flat_list.extend(flatten(element))\n",
    "            elif isinstance(element, dict):\n",
    "                flat_list.extend(flatten(list(element.keys())))\n",
    "                flat_list.extend(flatten(list(element.values())))\n",
    "            else:\n",
    "                flat_list.append(element)\n",
    "        return flat_list\n",
    "\n",
    "    flat_list = flatten(lst)\n",
    "    product_result = multiply_list_elements(flat_list)\n",
    "    return product_result\n",
    "\n",
    "\n",
    "# Test the function with the given list1\n",
    "list1 = [1, 2, 3, 4, [44, 55, 66, True], False, (34, 56, 78, 89, 34), {1, 2, 3, 3, 2, 1},\n",
    "         {1: 34, \"key2\": [55, 67, 78, 89], 4: (45, 22, 61, 34)}, [56, 'data science'], 'Machine Learning']\n",
    "\n",
    "\n",
    "print(\"Product of all numbers in the list:\", result)\n"
   ]
  },
  {
   "cell_type": "code",
   "execution_count": 25,
   "id": "29c59c4c-f993-4ddf-8734-bd25e90adccf",
   "metadata": {},
   "outputs": [
    {
     "name": "stdout",
     "output_type": "stream",
     "text": [
      "Encrypted Message: r$dzmg$gl$yvxlnv$z$wzgz$hxrvmgrhg.\n"
     ]
    }
   ],
   "source": [
    "def encrypt_message(message):\n",
    "    encrypted_msg = \"\"\n",
    "\n",
    "    for char in message:\n",
    "        if char.isalpha():  # Check if the character is an alphabet\n",
    "            base = ord('a') if char.islower() else ord('A')\n",
    "            encrypted_char = chr(ord('z') - (ord(char) - base))\n",
    "            encrypted_msg += encrypted_char\n",
    "        elif char == ' ':  # Replace whitespace with a dollar sign\n",
    "            encrypted_msg += '$'\n",
    "        else:\n",
    "            encrypted_msg += char  # Keep punctuation marks unchanged\n",
    "\n",
    "    return encrypted_msg\n",
    "\n",
    "\n",
    "# Test the encryption\n",
    "message_to_encrypt = \"I want to become a Data Scientist.\"\n",
    "encrypted_message = encrypt_message(message_to_encrypt)\n",
    "print(\"Encrypted Message:\", encrypted_message)\n"
   ]
  },
  {
   "cell_type": "code",
   "execution_count": null,
   "id": "56a619f1-382a-41c2-b6c4-c3c3e1a133f6",
   "metadata": {},
   "outputs": [],
   "source": []
  }
 ],
 "metadata": {
  "kernelspec": {
   "display_name": "Python 3 (ipykernel)",
   "language": "python",
   "name": "python3"
  },
  "language_info": {
   "codemirror_mode": {
    "name": "ipython",
    "version": 3
   },
   "file_extension": ".py",
   "mimetype": "text/x-python",
   "name": "python",
   "nbconvert_exporter": "python",
   "pygments_lexer": "ipython3",
   "version": "3.10.8"
  }
 },
 "nbformat": 4,
 "nbformat_minor": 5
}
