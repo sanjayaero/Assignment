{
 "cells": [
  {
   "cell_type": "code",
   "execution_count": 12,
   "id": "54a97f48-92f1-4dbc-aa51-f14dee6607df",
   "metadata": {},
   "outputs": [],
   "source": [
    "def oddnum():\n",
    "    a=[]\n",
    "    for i in range(1,26):\n",
    "        if i%2 !=0:\n",
    "            a.append(i)\n",
    "    return a"
   ]
  },
  {
   "cell_type": "code",
   "execution_count": 13,
   "id": "fa930ec0-d593-4fbc-b1d3-93807440c28c",
   "metadata": {},
   "outputs": [
    {
     "data": {
      "text/plain": [
       "[1, 3, 5, 7, 9, 11, 13, 15, 17, 19, 21, 23, 25]"
      ]
     },
     "execution_count": 13,
     "metadata": {},
     "output_type": "execute_result"
    }
   ],
   "source": [
    "oddnum()"
   ]
  },
  {
   "cell_type": "code",
   "execution_count": 14,
   "id": "d1060393-00a0-4192-9105-37e31b6ca297",
   "metadata": {},
   "outputs": [],
   "source": [
    "def oddnum():\n",
    "    a=[]\n",
    "    for i in range(1,26):\n",
    "        if i%2 !=0:\n",
    "            a.append(i)"
   ]
  },
  {
   "cell_type": "code",
   "execution_count": 17,
   "id": "ff50e311-c04b-418a-928b-95ab4eeffbda",
   "metadata": {},
   "outputs": [],
   "source": [
    "oddnum()"
   ]
  },
  {
   "cell_type": "code",
   "execution_count": 20,
   "id": "c3d3a383-520e-4be9-bd59-28141b7e9f5d",
   "metadata": {},
   "outputs": [
    {
     "ename": "SyntaxError",
     "evalue": "invalid syntax (201338613.py, line 2)",
     "output_type": "error",
     "traceback": [
      "\u001b[0;36m  Cell \u001b[0;32mIn[20], line 2\u001b[0;36m\u001b[0m\n\u001b[0;31m    The term args stands for \"arguments\" and allows you to pass a variable number of positional arguments to a function. When a function parameter is preceded by an asterisk (), it means that the function can accept any number of positional arguments, which will be bundled into a tuple. Inside the function, you can then iterate over the *args tuple to process each argument accordingly.\u001b[0m\n\u001b[0m        ^\u001b[0m\n\u001b[0;31mSyntaxError\u001b[0m\u001b[0;31m:\u001b[0m invalid syntax\n"
     ]
    }
   ],
   "source": [
    "##Ans 2\n",
    "The term args stands for \"arguments\" and allows you to pass a variable number of positional arguments to a function. When a function parameter is preceded by an asterisk (), it means that the function can accept any number of positional arguments, which will be bundled into a tuple. Inside the function, you can then iterate over the *args tuple to process each argument accordingly.\n",
    "On the other hand, kwargs stands for \"keyword arguments\" and allows you to pass a variable number of keyword arguments to a function. When a function parameter is preceded by two asterisks (), it means that the function can accept any number of keyword arguments, which will be bundled into a dictionary. Inside the function, you can then access the values using the keys.\n",
    "\n",
    "def print_args(*args):\n",
    "    for arg in args:\n",
    "        print(arg)\n",
    "        \n",
    "        \n",
    "def my_function(**kwargs):\n",
    "    for key, value in kwargs.items():\n",
    "        print(key, value)\n",
    "\n",
    "my_function(name='Alice', age=25, city='New York')"
   ]
  },
  {
   "cell_type": "code",
   "execution_count": 1,
   "id": "2d0b1ebf-5a49-4197-ad25-6433500d0747",
   "metadata": {},
   "outputs": [],
   "source": [
    "##Ans 3:\n",
    "In Python, an iterator is an object that allows you to traverse a sequence of elements one by one without having to know the underlying structure of the data. It provides a common interface for iterating over different data types like lists, tuples, dictionaries, strings, etc.\n",
    "\n",
    "To initialize an iterator object, you can use the built-in iter() function. This function takes a sequence (like a list, tuple, or string) and returns an iterator object associated with that sequence. The iterator object keeps track of the current position during iteration.\n",
    "\n",
    "The method used for iteration with an iterator is next(). The next() method is called on the iterator object, and it returns the next element from the sequence. As you call next() repeatedly, it moves through the sequence until all elements have been exhausted, at which point it raises the StopIteration exception to indicate that there are no more elements to retrieve."
   ]
  },
  {
   "cell_type": "code",
   "execution_count": 11,
   "id": "854cc9d5-45ca-48c7-805a-cf1b4f23e939",
   "metadata": {},
   "outputs": [
    {
     "name": "stdout",
     "output_type": "stream",
     "text": [
      "2\n",
      "4\n",
      "6\n",
      "8\n",
      "10\n"
     ]
    }
   ],
   "source": [
    "A = [2, 4, 6, 8, 10, 12, 14, 16, 18, 20]\n",
    "\n",
    "my_iterator = iter(A)\n",
    "print(next(my_iterator)) \n",
    "print(next(my_iterator)) \n",
    "print(next(my_iterator)) \n",
    "print(next(my_iterator)) \n",
    "print(next(my_iterator)) "
   ]
  },
  {
   "cell_type": "code",
   "execution_count": 12,
   "id": "4021d326-f023-466b-8b6b-7582e7c5c5f8",
   "metadata": {},
   "outputs": [],
   "source": [
    "##Ans4.\n",
    "In Python, a generator function is a special type of function that generates a sequence of values using the yield keyword. Unlike regular functions that use the return statement to return a single value and terminate the function's execution, generator functions can be paused and resumed, allowing them to produce a series of values over time.\n",
    "\n",
    "When a generator function is called, it doesn't execute the entire function at once. Instead, it returns an iterator object, which is used to control the execution of the generator function. The generator function starts running when the next() function (or the built-in for loop) is called on the iterator. It executes the function until it reaches a yield statement, at which point it yields the value and pauses its execution state. The state of the generator function is saved, and the next time next() is called on the iterator, the function resumes execution from where it left off, continuing until it reaches the next yield statement or completes the function.\n",
    "\n",
    "The yield keyword is used to emit a value from the generator function while maintaining its internal state. It works similarly to return, but it doesn't terminate the function; instead, it temporarily suspends it, allowing you to produce more values on subsequent calls to the generator function.\n",
    "\n",
    "Here's an example of a generator function that generates a sequence of even numbers:\n",
    "\n",
    "python\n",
    "Copy code\n",
    "def even_numbers_generator(limit):\n",
    "    num = 0\n",
    "    while num < limit:\n",
    "        yield num\n",
    "        num += 2\n",
    "\n",
    "# Using the generator function to generate even numbers up to 10\n",
    "even_gen = even_numbers_generator(10)\n",
    "\n",
    "# Iterating through the generator using a for loop\n",
    "for num in even_gen:\n",
    "    print(num)\n",
    "\n",
    "# Output: 0, 2, 4, 6, 8\n",
    "In this example, even_numbers_generator() is a generator function that generates even numbers starting from 0 and stopping at the specified limit. The yield keyword is used inside the while loop to yield the current value of num. The function is paused at the yield statement until the next value is requested from the generator using the next() function or a for loop. As a result, only the first five even numbers (0, 2, 4, 6, and 8) are generated and printed. When the limit is reached, the generator function automatically raises a StopIteration exception to indicate that there are no more values to generate.\n",
    "\n",
    "\n",
    "\n",
    "\n",
    "\n",
    "\n"
   ]
  },
  {
   "cell_type": "code",
   "execution_count": 13,
   "id": "305e254b-bab9-430b-adb4-247997cf3f58",
   "metadata": {},
   "outputs": [
    {
     "name": "stdout",
     "output_type": "stream",
     "text": [
      "0\n",
      "2\n",
      "4\n",
      "6\n",
      "8\n"
     ]
    }
   ],
   "source": [
    "def even_numbers_generator(limit):\n",
    "    num = 0\n",
    "    while num < limit:\n",
    "        yield num\n",
    "        num += 2\n",
    "\n",
    "# Using the generator function to generate even numbers up to 10\n",
    "even_gen = even_numbers_generator(10)\n",
    "\n",
    "# Iterating through the generator using a for loop\n",
    "for num in even_gen:\n",
    "    print(num)"
   ]
  },
  {
   "cell_type": "code",
   "execution_count": 14,
   "id": "defeaae4-2a92-462c-b05d-d635ed66c326",
   "metadata": {},
   "outputs": [
    {
     "name": "stdout",
     "output_type": "stream",
     "text": [
      "2 3 5 7 11 13 17 19 23 29 31 37 41 43 47 53 59 61 67 71 "
     ]
    }
   ],
   "source": [
    "###Ans=\n",
    "def is_prime(num):\n",
    "    if num < 2:\n",
    "        return False\n",
    "    for i in range(2, int(num ** 0.5) + 1):\n",
    "        if num % i == 0:\n",
    "            return False\n",
    "    return True\n",
    "\n",
    "def prime_numbers_generator(limit):\n",
    "    num = 2\n",
    "    while num < limit:\n",
    "        if is_prime(num):\n",
    "            yield num\n",
    "        num += 1\n",
    "\n",
    "# Using the generator function to generate prime numbers less than 1000\n",
    "prime_gen = prime_numbers_generator(1000)\n",
    "\n",
    "# Printing the first 20 prime numbers using next() method\n",
    "for _ in range(20):\n",
    "    print(next(prime_gen), end=' ')\n",
    "\n",
    "    "
   ]
  },
  {
   "cell_type": "code",
   "execution_count": 16,
   "id": "f2703bc9-8159-4663-9fc0-abfbe4149fff",
   "metadata": {},
   "outputs": [
    {
     "name": "stdout",
     "output_type": "stream",
     "text": [
      "[0, 1, 1, 2, 3, 5, 8, 13, 21, 34]\n"
     ]
    }
   ],
   "source": [
    "##Ans 6.\n",
    "def fibonacci_sequence(n):\n",
    "    fib_sequence = [0, 1]\n",
    "    while len(fib_sequence) < n:\n",
    "        next_number = fib_sequence[-1] + fib_sequence[-2]\n",
    "        fib_sequence.append(next_number)\n",
    "    return fib_sequence\n",
    "\n",
    "# Printing the first 10 Fibonacci numbers\n",
    "first_10_fibonacci = fibonacci_sequence(10)\n",
    "print(first_10_fibonacci)"
   ]
  },
  {
   "cell_type": "code",
   "execution_count": 17,
   "id": "7f298ab2-65a4-4cd3-a9d5-95f71fb2d322",
   "metadata": {},
   "outputs": [
    {
     "name": "stdout",
     "output_type": "stream",
     "text": [
      "['p', 'w', 's', 'k', 'i', 'l', 'l', 's']\n"
     ]
    }
   ],
   "source": [
    "##Ans7\n",
    "input_string = 'pwskills'\n",
    "output_list = [char for char in input_string if char in 'pwskills']\n",
    "print(output_list)"
   ]
  },
  {
   "cell_type": "code",
   "execution_count": 19,
   "id": "e5e815e3-a2d3-4c2d-85e5-843a24a5b8c6",
   "metadata": {},
   "outputs": [
    {
     "name": "stdin",
     "output_type": "stream",
     "text": [
      "Enter a number:  55\n"
     ]
    },
    {
     "name": "stdout",
     "output_type": "stream",
     "text": [
      "55 is a palindrome.\n"
     ]
    }
   ],
   "source": [
    "##Ans8\n",
    "def is_palindrome(number):\n",
    "    original_number = number\n",
    "    reversed_number = 0\n",
    "\n",
    "    while number > 0:\n",
    "        digit = number % 10\n",
    "        reversed_number = reversed_number * 10 + digit\n",
    "        number //= 10\n",
    "\n",
    "    return original_number == reversed_number\n",
    "\n",
    "# Test the function\n",
    "num = int(input(\"Enter a number: \"))\n",
    "if is_palindrome(num):\n",
    "    print(f\"{num} is a palindrome.\")\n",
    "else:\n",
    "    print(f\"{num} is not a palindrome.\")\n"
   ]
  },
  {
   "cell_type": "code",
   "execution_count": null,
   "id": "6cad796c-ce4a-43f5-9696-a13be1452566",
   "metadata": {},
   "outputs": [],
   "source": []
  }
 ],
 "metadata": {
  "kernelspec": {
   "display_name": "Python 3 (ipykernel)",
   "language": "python",
   "name": "python3"
  },
  "language_info": {
   "codemirror_mode": {
    "name": "ipython",
    "version": 3
   },
   "file_extension": ".py",
   "mimetype": "text/x-python",
   "name": "python",
   "nbconvert_exporter": "python",
   "pygments_lexer": "ipython3",
   "version": "3.10.8"
  }
 },
 "nbformat": 4,
 "nbformat_minor": 5
}
