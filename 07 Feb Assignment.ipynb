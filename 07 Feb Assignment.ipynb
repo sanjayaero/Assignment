{
 "cells": [
  {
   "cell_type": "code",
   "execution_count": 3,
   "id": "f46f3b04-1687-414c-9734-3ed3acb42ee3",
   "metadata": {},
   "outputs": [
    {
     "name": "stdout",
     "output_type": "stream",
     "text": [
      "Invalid Password\n",
      "Valid Password\n",
      "Invalid Password\n",
      "Invalid Password\n",
      "Valid Password\n"
     ]
    }
   ],
   "source": [
    "import re\n",
    "\n",
    "def check_password(password):\n",
    "    # Check the length of the password\n",
    "    if len(password) != 10:\n",
    "        return \"Invalid Password\"\n",
    "\n",
    "    # Check for at least two uppercase letters\n",
    "    if len(re.findall(r'[A-Z]', password)) < 2:\n",
    "        return \"Invalid Password\"\n",
    "\n",
    "    # Check for at least two lowercase letters\n",
    "    if len(re.findall(r'[a-z]', password)) < 2:\n",
    "        return \"Invalid Password\"\n",
    "\n",
    "    # Check for at least a number\n",
    "    if len(re.findall(r'[0-9]', password)) < 1:\n",
    "        return \"Invalid Password\"\n",
    "\n",
    "    # Check for three special characters\n",
    "    if len(re.findall(r'[!@#$%^&*()-=_+]', password)) < 3:\n",
    "        return \"Invalid Password\"\n",
    "\n",
    "    # If all conditions are met, return \"Valid Password\"\n",
    "    return \"Valid Password\"\n",
    "\n",
    "\n",
    "# Test the function with some example passwords\n",
    "password1 = \"Abcdefg@12\"\n",
    "password2 = \"Abcde@12FG\"\n",
    "password3 = \"Abcdefg@1234\"\n",
    "password4 = \"Abc@12FGH\"\n",
    "password5 = \"Abc@12fgHJ\"\n",
    "\n",
    "print(check_password(password1)) \n",
    "print(check_password(password2))  \n",
    "print(check_password(password3)) \n",
    "print(check_password(password4))  \n",
    "print(check_password(password5))  \n"
   ]
  },
  {
   "cell_type": "code",
   "execution_count": 5,
   "id": "e236257e-1e2f-4050-93ed-b9e634d3e038",
   "metadata": {},
   "outputs": [
    {
     "name": "stdout",
     "output_type": "stream",
     "text": [
      "True\n"
     ]
    }
   ],
   "source": [
    "string = \"Hello, World!\"\n",
    "starts_with_h = lambda s: s.startswith(\"H\")\n",
    "print(starts_with_h(string))  "
   ]
  },
  {
   "cell_type": "code",
   "execution_count": 6,
   "id": "4418a24d-375f-407b-b1c6-d577fbcaf9c1",
   "metadata": {},
   "outputs": [
    {
     "name": "stdout",
     "output_type": "stream",
     "text": [
      "True\n"
     ]
    }
   ],
   "source": [
    "string = \"12345\"\n",
    "is_numeric = lambda s: s.isnumeric()\n",
    "print(is_numeric(string))"
   ]
  },
  {
   "cell_type": "code",
   "execution_count": 7,
   "id": "392c714b-a3ed-482d-bfb8-02dc898082dd",
   "metadata": {},
   "outputs": [
    {
     "name": "stdout",
     "output_type": "stream",
     "text": [
      "[('orange', 80), ('mango', 99), ('grapes', 1000)]\n"
     ]
    }
   ],
   "source": [
    "fruits = [(\"mango\", 99), (\"orange\", 80), (\"grapes\", 1000)]\n",
    "sorted_fruits = sorted(fruits, key=lambda x: x[1])\n",
    "print(sorted_fruits)"
   ]
  },
  {
   "cell_type": "code",
   "execution_count": null,
   "id": "46740ad7-b77b-4e97-b9b1-c40b29e928f8",
   "metadata": {},
   "outputs": [],
   "source": []
  }
 ],
 "metadata": {
  "kernelspec": {
   "display_name": "Python 3 (ipykernel)",
   "language": "python",
   "name": "python3"
  },
  "language_info": {
   "codemirror_mode": {
    "name": "ipython",
    "version": 3
   },
   "file_extension": ".py",
   "mimetype": "text/x-python",
   "name": "python",
   "nbconvert_exporter": "python",
   "pygments_lexer": "ipython3",
   "version": "3.10.8"
  }
 },
 "nbformat": 4,
 "nbformat_minor": 5
}
