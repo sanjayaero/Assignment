{
 "cells": [
  {
   "cell_type": "code",
   "execution_count": null,
   "id": "cf3bfaba-5c2f-40d5-a7f8-fb824f1090cb",
   "metadata": {},
   "outputs": [],
   "source": [
    "##Ans1\n",
    " In Object-Oriented Programming (OOP), a class is a blueprint or a template that defines the structure and behavior of objects. It serves as a blueprint for creating objects, encapsulating data (attributes) and methods (functions) that operate on that data. An object, on the other hand, is an instance of a class, representing a real-world entity or concept with its own unique state and behavior."
   ]
  },
  {
   "cell_type": "code",
   "execution_count": 1,
   "id": "9fc9d1c0-6f62-4285-9ac9-76da9e14b867",
   "metadata": {},
   "outputs": [
    {
     "name": "stdout",
     "output_type": "stream",
     "text": [
      "Toyota\n",
      "Civic\n",
      "Toyota Corolla's engine started.\n",
      "Honda Civic is accelerating.\n"
     ]
    }
   ],
   "source": [
    "# Class definition\n",
    "class Car:\n",
    "    def __init__(self, make, model, year):\n",
    "        self.make = make\n",
    "        self.model = model\n",
    "        self.year = year\n",
    "\n",
    "    def start_engine(self):\n",
    "        return f\"{self.make} {self.model}'s engine started.\"\n",
    "\n",
    "    def accelerate(self):\n",
    "        return f\"{self.make} {self.model} is accelerating.\"\n",
    "\n",
    "# Creating objects (instances) of the Car class\n",
    "car1 = Car(\"Toyota\", \"Corolla\", 2022)\n",
    "car2 = Car(\"Honda\", \"Civic\", 2023)\n",
    "\n",
    "# Accessing attributes and calling methods\n",
    "print(car1.make)             \n",
    "print(car2.model)             \n",
    "print(car1.start_engine())    \n",
    "print(car2.accelerate())      "
   ]
  },
  {
   "cell_type": "code",
   "execution_count": null,
   "id": "1f0237cd-5fb0-4035-8e9e-2457dc9784c2",
   "metadata": {},
   "outputs": [],
   "source": [
    "##Ans 2\n",
    " The four pillars of Object-Oriented Programming (OOP) are:\n",
    "Encapsulation: This refers to the bundling of data (attributes) and methods (functions) that operate on that data into a single unit called a class. It hides the internal details of the object from the outside world and allows access only through well-defined interfaces.\n",
    "Abstraction: Abstraction allows the creation of simplified representations of real-world objects in the form of classes. It focuses on the essential characteristics of an object and ignores the non-essential details, making it easier to work with complex systems.\n",
    "Inheritance: Inheritance is a mechanism that allows a class (called a subclass or derived class) to inherit properties and behaviors from another class (called a superclass or base class). This promotes code reuse and the creation of a hierarchical relationship between classes.\n",
    "Polymorphism: Polymorphism allows objects of different classes to be treated as objects of a common superclass. It enables a single interface to represent different data types, and it can be achieved through method overriding and method overloading."
   ]
  },
  {
   "cell_type": "code",
   "execution_count": null,
   "id": "02047018-1809-4c8d-a0a6-a8ca06d9d360",
   "metadata": {},
   "outputs": [],
   "source": [
    "##Ans3\n",
    ". The __init__() function is a special method in Python classes used to initialize the attributes of an object when it is created. It gets automatically called when an object is instantiated from a class, allowing us to set initial values to object attributes."
   ]
  },
  {
   "cell_type": "code",
   "execution_count": 2,
   "id": "69da019e-821e-4376-9c97-22fffb3f45df",
   "metadata": {},
   "outputs": [
    {
     "name": "stdout",
     "output_type": "stream",
     "text": [
      "Hi, my name is Alice, and I am 30 years old.\n",
      "Hi, my name is Bob, and I am 25 years old.\n"
     ]
    }
   ],
   "source": [
    "class Person:\n",
    "    def __init__(self, name, age):\n",
    "        self.name = name\n",
    "        self.age = age\n",
    "\n",
    "    def introduce(self):\n",
    "        return f\"Hi, my name is {self.name}, and I am {self.age} years old.\"\n",
    "\n",
    "# Creating an object and passing values to __init__ method\n",
    "person1 = Person(\"Alice\", 30)\n",
    "person2 = Person(\"Bob\", 25)\n",
    "\n",
    "# Calling the introduce method to introduce the persons\n",
    "print(person1.introduce())  \n",
    "print(person2.introduce())  "
   ]
  },
  {
   "cell_type": "code",
   "execution_count": null,
   "id": "f97def9d-817e-4fe6-8034-95a4fa804532",
   "metadata": {},
   "outputs": [],
   "source": [
    "##Ans4\n",
    "A4. In OOP, self is a conventional name used to refer to the instance of the class (i.e., the object) that a method is operating on. It acts as a reference to the object itself within the class, allowing you to access and modify the object's attributes and call its methods.\n",
    "\n",
    "When you call a method on an object, Python automatically passes the object as the first argument to the method (i.e., self). By convention, it's called self, but you can use any name, although it's recommended to stick with the convention for better code readability.\n",
    "\n",
    "For example, when you call person1.introduce(), it's equivalent to Person.introduce(person1). The self parameter implicitly receives person1 as its value, allowing the method to access person1's attributes like name and age."
   ]
  },
  {
   "cell_type": "code",
   "execution_count": 5,
   "id": "7a5d1c92-49e7-4a87-9928-01aa1497587e",
   "metadata": {},
   "outputs": [
    {
     "ename": "IndentationError",
     "evalue": "unexpected indent (1458856270.py, line 2)",
     "output_type": "error",
     "traceback": [
      "\u001b[0;36m  Cell \u001b[0;32mIn[5], line 2\u001b[0;36m\u001b[0m\n\u001b[0;31m    Inheritance is a fundamental concept in OOP that allows a class (subclass) to inherit properties and behaviors from another class (superclass). It facilitates code reuse, promotes a hierarchical organization of classes, and enables the creation of more specialized classes.\u001b[0m\n\u001b[0m    ^\u001b[0m\n\u001b[0;31mIndentationError\u001b[0m\u001b[0;31m:\u001b[0m unexpected indent\n"
     ]
    }
   ],
   "source": [
    "##Ans5\n",
    " Inheritance is a fundamental concept in OOP that allows a class (subclass) to inherit properties and behaviors from another class (superclass). It facilitates code reuse, promotes a hierarchical organization of classes, and enables the creation of more specialized classes.\n",
    "\n",
    "There are several types of inheritance:\n",
    "\n",
    "Single Inheritance: In single inheritance, a subclass inherits from a single superclass.\n"
   ]
  },
  {
   "cell_type": "code",
   "execution_count": 4,
   "id": "e60aed81-cbd9-4de0-8861-30cb59f82d06",
   "metadata": {},
   "outputs": [
    {
     "name": "stdout",
     "output_type": "stream",
     "text": [
      "Bark\n"
     ]
    }
   ],
   "source": [
    "class Animal:\n",
    "    def make_sound(self):\n",
    "        return \"Generic animal sound\"\n",
    "\n",
    "class Dog(Animal):\n",
    "    def make_sound(self):\n",
    "        return \"Bark\"\n",
    "\n",
    "dog = Dog()\n",
    "print(dog.make_sound())\n"
   ]
  },
  {
   "cell_type": "code",
   "execution_count": null,
   "id": "3fd55dd0-1dae-4898-94d3-922774078e41",
   "metadata": {},
   "outputs": [],
   "source": []
  }
 ],
 "metadata": {
  "kernelspec": {
   "display_name": "Python 3 (ipykernel)",
   "language": "python",
   "name": "python3"
  },
  "language_info": {
   "codemirror_mode": {
    "name": "ipython",
    "version": 3
   },
   "file_extension": ".py",
   "mimetype": "text/x-python",
   "name": "python",
   "nbconvert_exporter": "python",
   "pygments_lexer": "ipython3",
   "version": "3.10.8"
  }
 },
 "nbformat": 4,
 "nbformat_minor": 5
}
